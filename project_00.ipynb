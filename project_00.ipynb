{
  "nbformat": 4,
  "nbformat_minor": 0,
  "metadata": {
    "colab": {
      "provenance": [],
      "authorship_tag": "ABX9TyP8jUkGqApiSiYDe9O9RPZJ",
      "include_colab_link": true
    },
    "kernelspec": {
      "name": "python3",
      "display_name": "Python 3"
    },
    "language_info": {
      "name": "python"
    }
  },
  "cells": [
    {
      "cell_type": "markdown",
      "metadata": {
        "id": "view-in-github",
        "colab_type": "text"
      },
      "source": [
        "<a href=\"https://colab.research.google.com/github/klopoff/Yandex.Praktikum_Project_Data-Analysis/blob/main/project_00.ipynb\" target=\"_parent\"><img src=\"https://colab.research.google.com/assets/colab-badge.svg\" alt=\"Open In Colab\"/></a>"
      ]
    },
    {
      "cell_type": "markdown",
      "source": [
        "# Спринт № 0. Основы Python и анализа данных"
      ],
      "metadata": {
        "id": "HaP4MWap4_8a"
      }
    },
    {
      "cell_type": "code",
      "execution_count": null,
      "metadata": {
        "colab": {
          "base_uri": "https://localhost:8080/"
        },
        "id": "DVjyMSn8sHda",
        "outputId": "d13c86d5-b29d-41b2-ca05-f52be9d438ec"
      },
      "outputs": [
        {
          "output_type": "stream",
          "name": "stdout",
          "text": [
            "Хочу стать крутым IT-специалистом!\n"
          ]
        }
      ],
      "source": [
        "print('Хочу стать крутым IT-специалистом!')"
      ]
    },
    {
      "cell_type": "code",
      "source": [
        "print('Python, Python, ты могуч! Мои мысли ты озвучь!')"
      ],
      "metadata": {
        "colab": {
          "base_uri": "https://localhost:8080/"
        },
        "id": "KW9ANxsB3S0Z",
        "outputId": "da5ccba3-a66b-4e37-d576-8140ec1f2614"
      },
      "execution_count": null,
      "outputs": [
        {
          "output_type": "stream",
          "name": "stdout",
          "text": [
            "Python, Python, ты могуч! Мои мысли ты озвучь!\n"
          ]
        }
      ]
    },
    {
      "cell_type": "code",
      "source": [
        "print('Повелеваю показать этот текст на экране. И побыстрее.')"
      ],
      "metadata": {
        "colab": {
          "base_uri": "https://localhost:8080/"
        },
        "id": "EKzlX7ib3Uhw",
        "outputId": "007c500a-8ecc-4b7a-ff8b-87cfc04cd9df"
      },
      "execution_count": null,
      "outputs": [
        {
          "output_type": "stream",
          "name": "stdout",
          "text": [
            "Повелеваю показать этот текст на экране. И побыстрее.\n"
          ]
        }
      ]
    },
    {
      "cell_type": "code",
      "source": [
        "import pandas\n",
        "\n",
        "data = pandas.read_csv('polomki.csv', index_col='Магазин')\n",
        "print(data)"
      ],
      "metadata": {
        "id": "XNzNn_cE4mWW"
      },
      "execution_count": null,
      "outputs": []
    },
    {
      "cell_type": "code",
      "source": [
        "import pandas\n",
        "import seaborn\n",
        "\n",
        "data = pandas.read_csv('polomki.csv', index_col='Магазин')\n",
        "\n",
        "seaborn.heatmap(data)"
      ],
      "metadata": {
        "id": "R-DIXmgoBxJv"
      },
      "execution_count": null,
      "outputs": []
    },
    {
      "cell_type": "code",
      "source": [
        "data['Неделя 14']\n",
        "print(data['Неделя 14'])"
      ],
      "metadata": {
        "id": "BctBGZQ76Oh8"
      },
      "execution_count": null,
      "outputs": []
    },
    {
      "cell_type": "code",
      "source": [
        "days = 857 + 365\n",
        "hours = days * 24\n",
        "seconds = hours * 3600\n",
        "print(seconds)"
      ],
      "metadata": {
        "colab": {
          "base_uri": "https://localhost:8080/"
        },
        "id": "Wlf2MTwg7piV",
        "outputId": "563ab44f-f268-4164-fe9f-82104ff1be16"
      },
      "execution_count": null,
      "outputs": [
        {
          "output_type": "stream",
          "name": "stdout",
          "text": [
            "105580800\n"
          ]
        }
      ]
    },
    {
      "cell_type": "code",
      "source": [
        "seconds = seconds + 1"
      ],
      "metadata": {
        "id": "84HH8NaqDSHd"
      },
      "execution_count": null,
      "outputs": []
    },
    {
      "cell_type": "code",
      "source": [
        "import pandas\n",
        "import seaborn\n",
        "\n",
        "data = pandas.read_csv('polomki.csv', index_col='Магазин')\n",
        "data['Неделя 14'] = data['Неделя 14'] * 100\n",
        "print(data['Неделя 14'])\n",
        "print(data)\n",
        "\n",
        "seaborn.heatmap(data)"
      ],
      "metadata": {
        "id": "PehsdpW9888d"
      },
      "execution_count": null,
      "outputs": []
    },
    {
      "cell_type": "code",
      "source": [
        "variable = 2.0\n",
        "print(type(variable))"
      ],
      "metadata": {
        "colab": {
          "base_uri": "https://localhost:8080/"
        },
        "id": "zRY-dRKCUCki",
        "outputId": "bc04ccc6-de4d-4916-f788-e11de4cdad31"
      },
      "execution_count": null,
      "outputs": [
        {
          "output_type": "stream",
          "name": "stdout",
          "text": [
            "<class 'float'>\n"
          ]
        }
      ]
    },
    {
      "cell_type": "code",
      "source": [
        "variable = 2\n",
        "print(type(variable))"
      ],
      "metadata": {
        "colab": {
          "base_uri": "https://localhost:8080/"
        },
        "id": "iHZi3zW5UH5c",
        "outputId": "1dbedb16-ec78-4565-e054-4ac31e0c9389"
      },
      "execution_count": null,
      "outputs": [
        {
          "output_type": "stream",
          "name": "stdout",
          "text": [
            "<class 'int'>\n"
          ]
        }
      ]
    },
    {
      "cell_type": "code",
      "source": [
        "variable = 'Строчка'\n",
        "print(type(variable))"
      ],
      "metadata": {
        "colab": {
          "base_uri": "https://localhost:8080/"
        },
        "id": "7Uza7vd7UX2z",
        "outputId": "505d3af7-8602-42d8-c8c0-cd9e273a502c"
      },
      "execution_count": null,
      "outputs": [
        {
          "output_type": "stream",
          "name": "stdout",
          "text": [
            "<class 'str'>\n"
          ]
        }
      ]
    },
    {
      "cell_type": "code",
      "source": [
        "print()"
      ],
      "metadata": {
        "id": "l6bgjnzyOtGG",
        "outputId": "c7ebd376-daf3-4cd4-8375-a3958c2c0dbb",
        "colab": {
          "base_uri": "https://localhost:8080/"
        }
      },
      "execution_count": null,
      "outputs": [
        {
          "output_type": "stream",
          "name": "stdout",
          "text": [
            "\n"
          ]
        }
      ]
    }
  ]
}